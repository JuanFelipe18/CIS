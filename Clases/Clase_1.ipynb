{
 "cells": [
  {
   "cell_type": "markdown",
   "metadata": {
    "colab_type": "text",
    "id": "view-in-github"
   },
   "source": [
    "<a href=\"https://colab.research.google.com/github/Beta628427/CIS/blob/master/Clase_1.ipynb\" target=\"_parent\"><img src=\"https://colab.research.google.com/assets/colab-badge.svg\" alt=\"Open In Colab\"/></a>"
   ]
  },
  {
   "cell_type": "code",
   "execution_count": 0,
   "metadata": {
    "colab": {},
    "colab_type": "code",
    "id": "_bd-l45QyUrL"
   },
   "outputs": [],
   "source": [
    "# Importamos lib de acceso a drive y damos acceso al drive\n",
    "# https://gspread.readthedocs.io/en/latest/\n",
    "import gspread\n",
    "from google.colab import auth\n",
    "from oauth2client.client import GoogleCredentials\n",
    "\n",
    "auth.authenticate_user()\n",
    "gc = gspread.authorize(GoogleCredentials.get_application_default())"
   ]
  },
  {
   "cell_type": "code",
   "execution_count": 2,
   "metadata": {
    "colab": {
     "base_uri": "https://localhost:8080/",
     "height": 34
    },
    "colab_type": "code",
    "id": "MTI8UeNhyMKs",
    "outputId": "1f6af3b2-2c58-4f85-f4c5-4f7451bb800f"
   },
   "outputs": [
    {
     "data": {
      "text/plain": [
       "<Spreadsheet 'DATASET1' id:146W-LM9U7Z_LBwwAhS6nTUP9w-3Gs9FbSJEUc2Q0v8I>"
      ]
     },
     "execution_count": 2,
     "metadata": {
      "tags": []
     },
     "output_type": "execute_result"
    }
   ],
   "source": [
    "gc.create(\"DATASET1\")"
   ]
  },
  {
   "cell_type": "code",
   "execution_count": 3,
   "metadata": {
    "colab": {
     "base_uri": "https://localhost:8080/",
     "height": 118
    },
    "colab_type": "code",
    "id": "WFnIgKvk260a",
    "outputId": "5c74697d-3159-4103-f513-03df4b891320"
   },
   "outputs": [
    {
     "name": "stdout",
     "output_type": "stream",
     "text": [
      "<class 'int'>\n",
      "<class 'float'>\n",
      "<class 'bool'>\n",
      "<class 'list'>\n",
      "<class 'dict'>\n",
      "<class 'str'>\n"
     ]
    }
   ],
   "source": [
    "# Variables.\n",
    "\n",
    "x = 10\n",
    "y = 10.5\n",
    "z = False\n",
    "r = [] # arreglo\n",
    "k = {\"\":[]}\n",
    "s = \"sfdhsdtj\"\n",
    "\n",
    "print(type(x))\n",
    "print(type(y))\n",
    "print(type(z))\n",
    "print(type(r))\n",
    "print(type(k))\n",
    "print(type(s))"
   ]
  },
  {
   "cell_type": "markdown",
   "metadata": {
    "colab_type": "text",
    "id": "1GW55gEI7fWf"
   },
   "source": [
    "# ciclo If"
   ]
  },
  {
   "cell_type": "code",
   "execution_count": 4,
   "metadata": {
    "colab": {
     "base_uri": "https://localhost:8080/",
     "height": 34
    },
    "colab_type": "code",
    "id": "DKrQldGk4Hg0",
    "outputId": "c5b23b24-74d3-4f58-d5b5-2a41bddb0c3b"
   },
   "outputs": [
    {
     "name": "stdout",
     "output_type": "stream",
     "text": [
      "Si es igual\n"
     ]
    }
   ],
   "source": [
    "# ciclos \n",
    "# condiciones\n",
    "# ==\n",
    "# < OR >\n",
    "# >= OR <=\n",
    "# !=\n",
    "\n",
    "a = \"55\"\n",
    "b = 55\n",
    "\n",
    "# if\n",
    "if (a == str(b)):\n",
    "  print(\"Si es igual\")\n",
    "else:\n",
    "  print(\"no es igiual\")\n"
   ]
  },
  {
   "cell_type": "code",
   "execution_count": 5,
   "metadata": {
    "colab": {
     "base_uri": "https://localhost:8080/",
     "height": 84
    },
    "colab_type": "code",
    "id": "Ro2_bPeQ57HJ",
    "outputId": "a9cdedf7-611b-457b-8314-184a8a6d7d45"
   },
   "outputs": [
    {
     "name": "stdout",
     "output_type": "stream",
     "text": [
      "Beta\n",
      "Nicolas\n",
      "Cruz\n",
      "Rico\n"
     ]
    }
   ],
   "source": [
    "c = [\"Beta\", \"Nicolas\", \"Cruz\", \"Rico\"]\n",
    "\n",
    "# for\n",
    "for i in c:\n",
    "  print(i)"
   ]
  },
  {
   "cell_type": "markdown",
   "metadata": {
    "colab_type": "text",
    "id": "KyqStJ-P6cZq"
   },
   "source": [
    "# ciclo For\n",
    "\n"
   ]
  },
  {
   "cell_type": "code",
   "execution_count": 1,
   "metadata": {
    "colab": {
     "base_uri": "https://localhost:8080/",
     "height": 101
    },
    "colab_type": "code",
    "id": "FPHRhzM95ZPC",
    "outputId": "e7848389-b57d-468a-a691-a8646b0f2a2a"
   },
   "outputs": [
    {
     "name": "stdout",
     "output_type": "stream",
     "text": [
      "0\n",
      "1\n",
      "2\n",
      "3\n",
      "4\n",
      "5\n",
      "6\n",
      "7\n",
      "8\n",
      "9\n"
     ]
    }
   ],
   "source": [
    "# gsdfgsdfhsdh\n",
    "for i in range(10):\n",
    "  print(i)"
   ]
  },
  {
   "cell_type": "code",
   "execution_count": 7,
   "metadata": {
    "colab": {
     "base_uri": "https://localhost:8080/",
     "height": 118
    },
    "colab_type": "code",
    "id": "Z1I3vRNA5eLg",
    "outputId": "eb3ee806-a67f-4c22-a4ce-e0b689471abd"
   },
   "outputs": [
    {
     "name": "stdout",
     "output_type": "stream",
     "text": [
      "10\n",
      "11\n",
      "12\n",
      "13\n",
      "14\n",
      "15\n"
     ]
    }
   ],
   "source": [
    "for i in range(10,16):\n",
    "  print(i)"
   ]
  },
  {
   "cell_type": "markdown",
   "metadata": {
    "colab_type": "text",
    "id": "TbIlxW1G7VTI"
   },
   "source": [
    "# ciclo While"
   ]
  },
  {
   "cell_type": "code",
   "execution_count": 0,
   "metadata": {
    "colab": {},
    "colab_type": "code",
    "id": "Iv3oKM4y5Pjx"
   },
   "outputs": [],
   "source": [
    "i = 0\n",
    "while(True):\n",
    "  i += 1\n",
    "  print(i)"
   ]
  },
  {
   "cell_type": "code",
   "execution_count": 9,
   "metadata": {
    "colab": {
     "base_uri": "https://localhost:8080/",
     "height": 185
    },
    "colab_type": "code",
    "id": "c9dUoAqZ5Oac",
    "outputId": "d299e2a4-b043-4175-a884-b71cad9480bd"
   },
   "outputs": [
    {
     "name": "stdout",
     "output_type": "stream",
     "text": [
      "0\n",
      "1\n",
      "2\n",
      "3\n",
      "4\n",
      "5\n",
      "6\n",
      "7\n",
      "8\n",
      "9\n"
     ]
    }
   ],
   "source": [
    "i = 0\n",
    "while(i < 10):\n",
    "  print(i)\n",
    "  i += 1"
   ]
  },
  {
   "cell_type": "markdown",
   "metadata": {
    "colab_type": "text",
    "id": "zjvG-2rY-XGQ"
   },
   "source": [
    "# Librerias fundamentales de python"
   ]
  },
  {
   "cell_type": "code",
   "execution_count": 0,
   "metadata": {
    "colab": {},
    "colab_type": "code",
    "id": "9AA8lISS91p5"
   },
   "outputs": [],
   "source": [
    "# NumPy es el paquete fundamental para la computación científica con Python\n",
    "import numpy as np \n",
    "# pandas es una herramienta de análisis y manipulación de datos de código \n",
    "# abierto rápida, potente, flexible y fácil de usar\n",
    "import pandas as pd\n",
    "# Graficar\n",
    "import matplotlib.pyplot as plt"
   ]
  },
  {
   "cell_type": "markdown",
   "metadata": {
    "colab_type": "text",
    "id": "SRDpNWX48KQx"
   },
   "source": [
    "# Var Dicc"
   ]
  },
  {
   "cell_type": "code",
   "execution_count": 11,
   "metadata": {
    "colab": {
     "base_uri": "https://localhost:8080/",
     "height": 84
    },
    "colab_type": "code",
    "id": "jXxPSUvV4-15",
    "outputId": "a25e41a9-52ef-4756-b124-8eec4606e12d"
   },
   "outputs": [
    {
     "data": {
      "text/plain": [
       "{'t31': ['t3_1', 't3_2', 't3_3'],\n",
       " 't32': ['t3_1', 't3_2', 't3_3'],\n",
       " 't33': ['t3_1', 't3_2', 't3_3'],\n",
       " 't34': ['t3_1', 't3_2', 't3_3']}"
      ]
     },
     "execution_count": 11,
     "metadata": {
      "tags": []
     },
     "output_type": "execute_result"
    }
   ],
   "source": [
    "dcc = {\"t1\":{'t11':['t3_1', 't3_2', 't3_3'],\n",
    "             't12':['t3_1', 't3_2', 't3_3'],\n",
    "             't13':['t3_1', 't3_2', 't3_3'],\n",
    "             't14':['t3_1', 't3_2', 't3_3']},\n",
    "       \"t2\":{'t21':['t3_1', 't3_2', 't3_3'],\n",
    "             't22':['t3_1', 't3_2', 't3_3'],\n",
    "             't23':['t3_1', 't3_2', 't3_3'],\n",
    "             't24':['t3_1', 't3_2', 't3_3']},\n",
    "       \"t3\":{'t31':['t3_1', 't3_2', 't3_3'],\n",
    "             't32':['t3_1', 't3_2', 't3_3'],\n",
    "             't33':['t3_1', 't3_2', 't3_3'],\n",
    "             't34':['t3_1', 't3_2', 't3_3']},\n",
    "       \"t4\":{'t41':['t3_1', 't3_2', 't3_3'],\n",
    "             't42':['t3_1', 't3_2', 't3_3'],\n",
    "             't43':['t3_1', 't3_2', 't3_3'],\n",
    "             't44':['t3_1', 't3_2', 't3_3']}\n",
    "       }\n",
    "\n",
    "dcc['t3']"
   ]
  },
  {
   "cell_type": "code",
   "execution_count": 12,
   "metadata": {
    "colab": {
     "base_uri": "https://localhost:8080/",
     "height": 521
    },
    "colab_type": "code",
    "id": "jT86uRA4_Hnq",
    "outputId": "a2f5cc3e-f62b-465d-b594-d3f3944435d7"
   },
   "outputs": [
    {
     "data": {
      "text/html": [
       "<div>\n",
       "<style scoped>\n",
       "    .dataframe tbody tr th:only-of-type {\n",
       "        vertical-align: middle;\n",
       "    }\n",
       "\n",
       "    .dataframe tbody tr th {\n",
       "        vertical-align: top;\n",
       "    }\n",
       "\n",
       "    .dataframe thead th {\n",
       "        text-align: right;\n",
       "    }\n",
       "</style>\n",
       "<table border=\"1\" class=\"dataframe\">\n",
       "  <thead>\n",
       "    <tr style=\"text-align: right;\">\n",
       "      <th></th>\n",
       "      <th>t1</th>\n",
       "      <th>t2</th>\n",
       "      <th>t3</th>\n",
       "      <th>t4</th>\n",
       "    </tr>\n",
       "  </thead>\n",
       "  <tbody>\n",
       "    <tr>\n",
       "      <th>t11</th>\n",
       "      <td>[t3_1, t3_2, t3_3]</td>\n",
       "      <td>NaN</td>\n",
       "      <td>NaN</td>\n",
       "      <td>NaN</td>\n",
       "    </tr>\n",
       "    <tr>\n",
       "      <th>t12</th>\n",
       "      <td>[t3_1, t3_2, t3_3]</td>\n",
       "      <td>NaN</td>\n",
       "      <td>NaN</td>\n",
       "      <td>NaN</td>\n",
       "    </tr>\n",
       "    <tr>\n",
       "      <th>t13</th>\n",
       "      <td>[t3_1, t3_2, t3_3]</td>\n",
       "      <td>NaN</td>\n",
       "      <td>NaN</td>\n",
       "      <td>NaN</td>\n",
       "    </tr>\n",
       "    <tr>\n",
       "      <th>t14</th>\n",
       "      <td>[t3_1, t3_2, t3_3]</td>\n",
       "      <td>NaN</td>\n",
       "      <td>NaN</td>\n",
       "      <td>NaN</td>\n",
       "    </tr>\n",
       "    <tr>\n",
       "      <th>t21</th>\n",
       "      <td>NaN</td>\n",
       "      <td>[t3_1, t3_2, t3_3]</td>\n",
       "      <td>NaN</td>\n",
       "      <td>NaN</td>\n",
       "    </tr>\n",
       "    <tr>\n",
       "      <th>t22</th>\n",
       "      <td>NaN</td>\n",
       "      <td>[t3_1, t3_2, t3_3]</td>\n",
       "      <td>NaN</td>\n",
       "      <td>NaN</td>\n",
       "    </tr>\n",
       "    <tr>\n",
       "      <th>t23</th>\n",
       "      <td>NaN</td>\n",
       "      <td>[t3_1, t3_2, t3_3]</td>\n",
       "      <td>NaN</td>\n",
       "      <td>NaN</td>\n",
       "    </tr>\n",
       "    <tr>\n",
       "      <th>t24</th>\n",
       "      <td>NaN</td>\n",
       "      <td>[t3_1, t3_2, t3_3]</td>\n",
       "      <td>NaN</td>\n",
       "      <td>NaN</td>\n",
       "    </tr>\n",
       "    <tr>\n",
       "      <th>t31</th>\n",
       "      <td>NaN</td>\n",
       "      <td>NaN</td>\n",
       "      <td>[t3_1, t3_2, t3_3]</td>\n",
       "      <td>NaN</td>\n",
       "    </tr>\n",
       "    <tr>\n",
       "      <th>t32</th>\n",
       "      <td>NaN</td>\n",
       "      <td>NaN</td>\n",
       "      <td>[t3_1, t3_2, t3_3]</td>\n",
       "      <td>NaN</td>\n",
       "    </tr>\n",
       "    <tr>\n",
       "      <th>t33</th>\n",
       "      <td>NaN</td>\n",
       "      <td>NaN</td>\n",
       "      <td>[t3_1, t3_2, t3_3]</td>\n",
       "      <td>NaN</td>\n",
       "    </tr>\n",
       "    <tr>\n",
       "      <th>t34</th>\n",
       "      <td>NaN</td>\n",
       "      <td>NaN</td>\n",
       "      <td>[t3_1, t3_2, t3_3]</td>\n",
       "      <td>NaN</td>\n",
       "    </tr>\n",
       "    <tr>\n",
       "      <th>t41</th>\n",
       "      <td>NaN</td>\n",
       "      <td>NaN</td>\n",
       "      <td>NaN</td>\n",
       "      <td>[t3_1, t3_2, t3_3]</td>\n",
       "    </tr>\n",
       "    <tr>\n",
       "      <th>t42</th>\n",
       "      <td>NaN</td>\n",
       "      <td>NaN</td>\n",
       "      <td>NaN</td>\n",
       "      <td>[t3_1, t3_2, t3_3]</td>\n",
       "    </tr>\n",
       "    <tr>\n",
       "      <th>t43</th>\n",
       "      <td>NaN</td>\n",
       "      <td>NaN</td>\n",
       "      <td>NaN</td>\n",
       "      <td>[t3_1, t3_2, t3_3]</td>\n",
       "    </tr>\n",
       "    <tr>\n",
       "      <th>t44</th>\n",
       "      <td>NaN</td>\n",
       "      <td>NaN</td>\n",
       "      <td>NaN</td>\n",
       "      <td>[t3_1, t3_2, t3_3]</td>\n",
       "    </tr>\n",
       "  </tbody>\n",
       "</table>\n",
       "</div>"
      ],
      "text/plain": [
       "                     t1  ...                  t4\n",
       "t11  [t3_1, t3_2, t3_3]  ...                 NaN\n",
       "t12  [t3_1, t3_2, t3_3]  ...                 NaN\n",
       "t13  [t3_1, t3_2, t3_3]  ...                 NaN\n",
       "t14  [t3_1, t3_2, t3_3]  ...                 NaN\n",
       "t21                 NaN  ...                 NaN\n",
       "t22                 NaN  ...                 NaN\n",
       "t23                 NaN  ...                 NaN\n",
       "t24                 NaN  ...                 NaN\n",
       "t31                 NaN  ...                 NaN\n",
       "t32                 NaN  ...                 NaN\n",
       "t33                 NaN  ...                 NaN\n",
       "t34                 NaN  ...                 NaN\n",
       "t41                 NaN  ...  [t3_1, t3_2, t3_3]\n",
       "t42                 NaN  ...  [t3_1, t3_2, t3_3]\n",
       "t43                 NaN  ...  [t3_1, t3_2, t3_3]\n",
       "t44                 NaN  ...  [t3_1, t3_2, t3_3]\n",
       "\n",
       "[16 rows x 4 columns]"
      ]
     },
     "execution_count": 12,
     "metadata": {
      "tags": []
     },
     "output_type": "execute_result"
    }
   ],
   "source": [
    "pd.DataFrame(dcc)"
   ]
  },
  {
   "cell_type": "code",
   "execution_count": 13,
   "metadata": {
    "colab": {
     "base_uri": "https://localhost:8080/",
     "height": 136
    },
    "colab_type": "code",
    "id": "g6m6PgdiAevv",
    "outputId": "3f8f23b1-a91e-479d-845a-fb691b7e76fc"
   },
   "outputs": [
    {
     "data": {
      "text/html": [
       "<div>\n",
       "<style scoped>\n",
       "    .dataframe tbody tr th:only-of-type {\n",
       "        vertical-align: middle;\n",
       "    }\n",
       "\n",
       "    .dataframe tbody tr th {\n",
       "        vertical-align: top;\n",
       "    }\n",
       "\n",
       "    .dataframe thead th {\n",
       "        text-align: right;\n",
       "    }\n",
       "</style>\n",
       "<table border=\"1\" class=\"dataframe\">\n",
       "  <thead>\n",
       "    <tr style=\"text-align: right;\">\n",
       "      <th></th>\n",
       "      <th>0</th>\n",
       "    </tr>\n",
       "  </thead>\n",
       "  <tbody>\n",
       "    <tr>\n",
       "      <th>0</th>\n",
       "      <td>t3_1</td>\n",
       "    </tr>\n",
       "    <tr>\n",
       "      <th>1</th>\n",
       "      <td>t3_2</td>\n",
       "    </tr>\n",
       "    <tr>\n",
       "      <th>2</th>\n",
       "      <td>t3_3</td>\n",
       "    </tr>\n",
       "  </tbody>\n",
       "</table>\n",
       "</div>"
      ],
      "text/plain": [
       "      0\n",
       "0  t3_1\n",
       "1  t3_2\n",
       "2  t3_3"
      ]
     },
     "execution_count": 13,
     "metadata": {
      "tags": []
     },
     "output_type": "execute_result"
    }
   ],
   "source": [
    "pd.DataFrame(dcc['t2']['t21'])"
   ]
  },
  {
   "cell_type": "code",
   "execution_count": 14,
   "metadata": {
    "colab": {
     "base_uri": "https://localhost:8080/",
     "height": 50
    },
    "colab_type": "code",
    "id": "uhTxbJnPApdW",
    "outputId": "c64c14ad-5ee3-4335-add2-b5c35ba51285"
   },
   "outputs": [
    {
     "data": {
      "text/plain": [
       "0    t3_1\n",
       "Name: 0, dtype: object"
      ]
     },
     "execution_count": 14,
     "metadata": {
      "tags": []
     },
     "output_type": "execute_result"
    }
   ],
   "source": [
    "pd.DataFrame(dcc['t2']['t21']).iloc[0]"
   ]
  },
  {
   "cell_type": "code",
   "execution_count": 15,
   "metadata": {
    "colab": {
     "base_uri": "https://localhost:8080/",
     "height": 77
    },
    "colab_type": "code",
    "id": "hmAz01SQ_33j",
    "outputId": "3ac9c97c-a2ca-47bd-d298-ce02b737a3e5"
   },
   "outputs": [
    {
     "data": {
      "text/html": [
       "<div>\n",
       "<style scoped>\n",
       "    .dataframe tbody tr th:only-of-type {\n",
       "        vertical-align: middle;\n",
       "    }\n",
       "\n",
       "    .dataframe tbody tr th {\n",
       "        vertical-align: top;\n",
       "    }\n",
       "\n",
       "    .dataframe thead th {\n",
       "        text-align: right;\n",
       "    }\n",
       "</style>\n",
       "<table border=\"1\" class=\"dataframe\">\n",
       "  <thead>\n",
       "    <tr style=\"text-align: right;\">\n",
       "      <th></th>\n",
       "      <th>0</th>\n",
       "    </tr>\n",
       "  </thead>\n",
       "  <tbody>\n",
       "    <tr>\n",
       "      <th>0</th>\n",
       "      <td>t3_1</td>\n",
       "    </tr>\n",
       "  </tbody>\n",
       "</table>\n",
       "</div>"
      ],
      "text/plain": [
       "      0\n",
       "0  t3_1"
      ]
     },
     "execution_count": 15,
     "metadata": {
      "tags": []
     },
     "output_type": "execute_result"
    }
   ],
   "source": [
    "pd.DataFrame(dcc['t2']['t21'][:1])"
   ]
  },
  {
   "cell_type": "code",
   "execution_count": 16,
   "metadata": {
    "colab": {
     "base_uri": "https://localhost:8080/",
     "height": 106
    },
    "colab_type": "code",
    "id": "K93l5KERASuH",
    "outputId": "8955565d-288b-433c-f53e-96b072f73618"
   },
   "outputs": [
    {
     "data": {
      "text/html": [
       "<div>\n",
       "<style scoped>\n",
       "    .dataframe tbody tr th:only-of-type {\n",
       "        vertical-align: middle;\n",
       "    }\n",
       "\n",
       "    .dataframe tbody tr th {\n",
       "        vertical-align: top;\n",
       "    }\n",
       "\n",
       "    .dataframe thead th {\n",
       "        text-align: right;\n",
       "    }\n",
       "</style>\n",
       "<table border=\"1\" class=\"dataframe\">\n",
       "  <thead>\n",
       "    <tr style=\"text-align: right;\">\n",
       "      <th></th>\n",
       "      <th>0</th>\n",
       "    </tr>\n",
       "  </thead>\n",
       "  <tbody>\n",
       "    <tr>\n",
       "      <th>0</th>\n",
       "      <td>t3_2</td>\n",
       "    </tr>\n",
       "    <tr>\n",
       "      <th>1</th>\n",
       "      <td>t3_3</td>\n",
       "    </tr>\n",
       "  </tbody>\n",
       "</table>\n",
       "</div>"
      ],
      "text/plain": [
       "      0\n",
       "0  t3_2\n",
       "1  t3_3"
      ]
     },
     "execution_count": 16,
     "metadata": {
      "tags": []
     },
     "output_type": "execute_result"
    }
   ],
   "source": [
    "pd.DataFrame(dcc['t2']['t21'][1:])"
   ]
  },
  {
   "cell_type": "code",
   "execution_count": 19,
   "metadata": {
    "colab": {
     "base_uri": "https://localhost:8080/",
     "height": 352
    },
    "colab_type": "code",
    "id": "NLoh5mHhHZc2",
    "outputId": "b958e014-31bb-480e-d004-2111d6752de7"
   },
   "outputs": [
    {
     "name": "stderr",
     "output_type": "stream",
     "text": [
      "/usr/local/lib/python3.6/dist-packages/ipykernel_launcher.py:3: RuntimeWarning: Second argument 'y' is ambiguous: could be a format string but is in 'data'; using as data.  If it was intended as data, set the format string to an empty string to suppress this warning.  If it was intended as a format string, explicitly pass the x-values as well.  Alternatively, rename the entry in 'data'.\n",
      "  This is separate from the ipykernel package so we can avoid doing imports until\n",
      "/usr/local/lib/python3.6/dist-packages/ipykernel_launcher.py:5: RuntimeWarning: Second argument 'y' is ambiguous: could be a format string but is in 'data'; using as data.  If it was intended as data, set the format string to an empty string to suppress this warning.  If it was intended as a format string, explicitly pass the x-values as well.  Alternatively, rename the entry in 'data'.\n",
      "  \"\"\"\n"
     ]
    },
    {
     "data": {
      "image/png": "[encoded data removed]",
      "text/plain": [
       "<Figure size 432x288 with 4 Axes>"
      ]
     },
     "metadata": {
      "needs_background": "light",
      "tags": []
     },
     "output_type": "display_data"
    }
   ],
   "source": [
    "df=pd.DataFrame({'x': range(1,101), 'y': np.random.randn(100)*15+range(1,101), 'z': (np.random.randn(100)*15+range(1,101))*2 })\n",
    "f, [[ax1, ax2], [ax3, ax4]] = plt.subplots(2, 2, sharey=True) \n",
    "ax1.plot( 'x', 'y', data=df, marker='o', alpha=0.4)\n",
    "ax2.plot( 'x','z', data=df, linestyle='none', marker='o', color=\"orange\", alpha=0.3)\n",
    "ax3.plot( 'x', 'y', data=df, marker='o', alpha=0.4)\n",
    "ax4.plot( 'x','z', data=df, linestyle='none', marker='o', color=\"orange\", alpha=0.3)\n",
    "plt.show()"
   ]
  },
  {
   "cell_type": "markdown",
   "metadata": {
    "colab_type": "text",
    "id": "RgnKTBTdJ7rG"
   },
   "source": [
    "# TAREA \n",
    "### ¿Comó optimizar la tarea de hacer multiples graficas con un ciclo for o while?\n",
    "\n",
    "### Entradas: \n",
    "#### 1) numero de columnas \n",
    "#### 2) numero de filas\n",
    "#### 3) matrix 3 graficas diferentes\n",
    "\n",
    "#### La funcion debe autorrellenar la matriz de grafica"
   ]
  },
  {
   "cell_type": "code",
   "execution_count": 63,
   "metadata": {
    "colab": {
     "base_uri": "https://localhost:8080/",
     "height": 34
    },
    "colab_type": "code",
    "id": "87Nh0O0dCDs9",
    "outputId": "e902b5a7-b8be-4f4c-db42-ac5cb68b6030"
   },
   "outputs": [
    {
     "data": {
      "text/plain": [
       "4"
      ]
     },
     "execution_count": 63,
     "metadata": {
      "tags": []
     },
     "output_type": "execute_result"
    }
   ],
   "source": [
    " pd.DataFrame(list_co).shape[0]"
   ]
  },
  {
   "cell_type": "code",
   "execution_count": 0,
   "metadata": {
    "colab": {},
    "colab_type": "code",
    "id": "MC2CiVDU9Hc5"
   },
   "outputs": [],
   "source": [
    "def F_plt (list_Y,list_X,list_co,list_ma,tit,lx,ly):\n",
    "  cont_co, cc = pd.DataFrame(list_co).shape[0], 0\n",
    "  cont_ma, mm = pd.DataFrame(list_ma).shape[0], 0\n",
    "  for i in range(pd.DataFrame(list_Y).shape[0]):\n",
    "    plt.scatter(list_X[i], list_Y[i], color=list_co[cc], marker=list_ma[mm], alpha=0.5)\n",
    "    if cc == cont_co-1:\n",
    "      cc = 0\n",
    "    else: \n",
    "      cc += 1 \n",
    "    if mm == cont_ma-1:\n",
    "      mm = 0\n",
    "    else: \n",
    "      mm += 1 \n",
    "    plt.title(tit)\n",
    "    plt.xlabel(lx)\n",
    "    plt.ylabel(ly)\n",
    "  plt.show\n"
   ]
  },
  {
   "cell_type": "code",
   "execution_count": 104,
   "metadata": {
    "colab": {
     "base_uri": "https://localhost:8080/",
     "height": 295
    },
    "colab_type": "code",
    "id": "TO4DAJw4-_ew",
    "outputId": "7e554843-c0ca-4a8a-c3e6-093b7a27d2d4"
   },
   "outputs": [
    {
     "data": {
      "image/png": "[encoded data removed]",
      "text/plain": [
       "<Figure size 432x288 with 1 Axes>"
      ]
     },
     "metadata": {
      "needs_background": "light",
      "tags": []
     },
     "output_type": "display_data"
    }
   ],
   "source": [
    "df=pd.DataFrame({'x1' : range(1  ,101), \n",
    "                 'x2' : range(101,201), \n",
    "                 'x3' : range(201,301),\n",
    "                 'x4' : range(301,401), \n",
    "                 'x5' : range(401,501),\n",
    "                 'y1' : np.random.randn(100)*15+range(1,101), \n",
    "                 'y2' : (np.random.randn(100)*15+range(1,101))*2,\n",
    "                 'y3' : (np.random.randn(100)*15+range(1,101))*3,\n",
    "                 'y4' : (np.random.randn(100)*15+range(1,101))*4,\n",
    "                 'y5' : (np.random.randn(100)*15+range(1,101))*5})\n",
    "\n",
    "F_plt([df['y1'],df['y2'],df['y3'],df['y4'],df['y5']],\n",
    "      [df['x1'],df['x2'],df['x3'],df['x4'],df['x5']],\n",
    "      ['red','blue','green','yellow'],['o','^'],\n",
    "      'TITULO GRÁFICA','LABEL X','LABEL Y')"
   ]
  },
  {
   "cell_type": "markdown",
   "metadata": {
    "colab_type": "text",
    "id": "ftHpUg6CKvz0"
   },
   "source": [
    "# FUNCIONES"
   ]
  },
  {
   "cell_type": "code",
   "execution_count": 0,
   "metadata": {
    "colab": {},
    "colab_type": "code",
    "id": "SpyqWCVgKtg2"
   },
   "outputs": [],
   "source": [
    "x = j = 0\n",
    "\n",
    "def S (A,B,C):\n",
    "  x = A + B + C\n",
    "  j = (A+B) / C\n",
    "  return(x,j)"
   ]
  },
  {
   "cell_type": "code",
   "execution_count": 0,
   "metadata": {
    "colab": {},
    "colab_type": "code",
    "id": "Zch0k9Z-LLhf"
   },
   "outputs": [],
   "source": [
    "a,b,c = 10,20,30\n",
    "\n",
    "xxx , jjj = S(a,b,c)\n",
    "\n",
    "print(\"a = \"+str(a)+\"\\nb = \"+str(b)+\"\\nc = \"+str(c))\n",
    "print(\"x = \"+str(xxx)+\"\\nj = \"+str(jjj))"
   ]
  },
  {
   "cell_type": "code",
   "execution_count": 0,
   "metadata": {
    "colab": {},
    "colab_type": "code",
    "id": "4BArenPvLq0e"
   },
   "outputs": [],
   "source": []
  }
 ],
 "metadata": {
  "colab": {
   "authorship_tag": "ABX9TyNifUfd65we5vBWjJYbBTYk",
   "include_colab_link": true,
   "mount_file_id": "https://github.com/Beta628427/CIS/blob/master/Clase_1.ipynb",
   "name": "Untitled5.ipynb",
   "provenance": []
  },
  "kernelspec": {
   "display_name": "Python 3",
   "language": "python",
   "name": "python3"
  },
  "language_info": {
   "codemirror_mode": {
    "name": "ipython",
    "version": 3
   },
   "file_extension": ".py",
   "mimetype": "text/x-python",
   "name": "python",
   "nbconvert_exporter": "python",
   "pygments_lexer": "ipython3",
   "version": "3.7.6"
  }
 },
 "nbformat": 4,
 "nbformat_minor": 1
}
